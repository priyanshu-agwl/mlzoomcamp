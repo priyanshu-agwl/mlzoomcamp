{
  "nbformat": 4,
  "nbformat_minor": 0,
  "metadata": {
    "colab": {
      "provenance": [],
      "collapsed_sections": []
    },
    "kernelspec": {
      "name": "python3",
      "display_name": "Python 3"
    },
    "language_info": {
      "name": "python"
    },
    "accelerator": "GPU"
  },
  "cells": [
    {
      "cell_type": "code",
      "execution_count": 5,
      "metadata": {
        "colab": {
          "base_uri": "https://localhost:8080/"
        },
        "id": "ZkAABsXJQGjB",
        "outputId": "27dcbbab-01d5-499d-c8fe-9b3356febb94"
      },
      "outputs": [
        {
          "output_type": "stream",
          "name": "stdout",
          "text": [
            "--2022-09-19 18:35:11--  https://raw.githubusercontent.com/alexeygrigorev/datasets/master/housing.csv\n",
            "Resolving raw.githubusercontent.com (raw.githubusercontent.com)... 185.199.108.133, 185.199.109.133, 185.199.110.133, ...\n",
            "Connecting to raw.githubusercontent.com (raw.githubusercontent.com)|185.199.108.133|:443... connected.\n",
            "HTTP request sent, awaiting response... 200 OK\n",
            "Length: 1423529 (1.4M) [text/plain]\n",
            "Saving to: ‘housing.csv’\n",
            "\n",
            "housing.csv         100%[===================>]   1.36M  --.-KB/s    in 0.05s   \n",
            "\n",
            "2022-09-19 18:35:11 (24.9 MB/s) - ‘housing.csv’ saved [1423529/1423529]\n",
            "\n"
          ]
        }
      ],
      "source": [
        "!wget https://raw.githubusercontent.com/alexeygrigorev/datasets/master/housing.csv"
      ]
    },
    {
      "cell_type": "code",
      "source": [
        "import pandas as pd \n",
        "housing = pd.read_csv(\"/content/housing.csv\")"
      ],
      "metadata": {
        "id": "VGgTR6hlQk_r"
      },
      "execution_count": 6,
      "outputs": []
    },
    {
      "cell_type": "markdown",
      "source": [
        "Select only relevant columns "
      ],
      "metadata": {
        "id": "b-b7P-PRROLt"
      }
    },
    {
      "cell_type": "code",
      "source": [
        "hdf=housing[['latitude',\n",
        "'longitude',\n",
        "'housing_median_age',\n",
        "'total_rooms',\n",
        "'total_bedrooms',\n",
        "'population',\n",
        "'households',\n",
        "'median_income',\n",
        "'median_house_value']]"
      ],
      "metadata": {
        "id": "_tw2unYkQtCm"
      },
      "execution_count": 7,
      "outputs": []
    },
    {
      "cell_type": "markdown",
      "source": [
        "1. How many nulls in data set \n",
        "207"
      ],
      "metadata": {
        "id": "TuU-ZcCWRXyI"
      }
    },
    {
      "cell_type": "code",
      "source": [
        "hdf.isnull().sum() #207 "
      ],
      "metadata": {
        "colab": {
          "base_uri": "https://localhost:8080/"
        },
        "id": "QlNouMulQ2fu",
        "outputId": "8eea3432-927b-435e-9cd4-5c5ae1a0d094"
      },
      "execution_count": 8,
      "outputs": [
        {
          "output_type": "execute_result",
          "data": {
            "text/plain": [
              "latitude                0\n",
              "longitude               0\n",
              "housing_median_age      0\n",
              "total_rooms             0\n",
              "total_bedrooms        207\n",
              "population              0\n",
              "households              0\n",
              "median_income           0\n",
              "median_house_value      0\n",
              "dtype: int64"
            ]
          },
          "metadata": {},
          "execution_count": 8
        }
      ]
    },
    {
      "cell_type": "markdown",
      "source": [
        "2.median for variable population \n",
        "1166"
      ],
      "metadata": {
        "id": "5skfOyD3RoYd"
      }
    },
    {
      "cell_type": "code",
      "source": [
        "hdf.population.median()"
      ],
      "metadata": {
        "colab": {
          "base_uri": "https://localhost:8080/"
        },
        "id": "md47IN-vRJVr",
        "outputId": "29da04be-22d5-4f7d-8a1b-809ecca788c4"
      },
      "execution_count": 9,
      "outputs": [
        {
          "output_type": "execute_result",
          "data": {
            "text/plain": [
              "1166.0"
            ]
          },
          "metadata": {},
          "execution_count": 9
        }
      ]
    },
    {
      "cell_type": "markdown",
      "source": [
        "Shuffle the initail datset using 42 seed "
      ],
      "metadata": {
        "id": "Qzg4Her1Sff-"
      }
    },
    {
      "cell_type": "code",
      "source": [
        "\n",
        "# hdf= hdf.sample(frac=1, random_state=42)"
      ],
      "metadata": {
        "id": "zV4xkhsGRmZD"
      },
      "execution_count": null,
      "outputs": []
    },
    {
      "cell_type": "code",
      "source": [
        "import numpy as np "
      ],
      "metadata": {
        "id": "S-DgxcrCSS_x"
      },
      "execution_count": 10,
      "outputs": []
    },
    {
      "cell_type": "markdown",
      "source": [],
      "metadata": {
        "id": "S4D86gMwmCSX"
      }
    },
    {
      "cell_type": "code",
      "source": [
        "n=len(hdf)\n"
      ],
      "metadata": {
        "id": "napvA1Itl_mB"
      },
      "execution_count": 11,
      "outputs": []
    },
    {
      "cell_type": "code",
      "source": [
        "n-(2*4128)"
      ],
      "metadata": {
        "id": "eE9VJSU3i1XN"
      },
      "execution_count": null,
      "outputs": []
    },
    {
      "cell_type": "code",
      "source": [
        "nval=int(0.2*n)\n",
        "ntest=int(0.2*n)\n",
        "ntrain=n-nval-ntest"
      ],
      "metadata": {
        "id": "F1JvB5syStgJ"
      },
      "execution_count": 12,
      "outputs": []
    },
    {
      "cell_type": "code",
      "source": [
        "l=list(range(n))\n",
        "np.random.seed(42)\n",
        "np.random.shuffle(l)\n",
        "hdf=hdf.iloc[l]"
      ],
      "metadata": {
        "id": "3YaoPDVtmtXE"
      },
      "execution_count": 13,
      "outputs": []
    },
    {
      "cell_type": "code",
      "source": [
        "hdf_train=hdf.iloc[:ntrain]\n",
        "hdf_val=hdf.iloc[ntrain:ntrain+nval]\n",
        "hdf_test=hdf.iloc[ntrain+nval:]\n"
      ],
      "metadata": {
        "id": "_QJC9GZEmORv"
      },
      "execution_count": 14,
      "outputs": []
    },
    {
      "cell_type": "code",
      "source": [],
      "metadata": {
        "id": "u0wU_4JJj8bj"
      },
      "execution_count": null,
      "outputs": []
    },
    {
      "cell_type": "code",
      "source": [
        "hdfval= hdf.iloc[ntrain:ntrain+nval]\n",
        "hdftest= hdf.iloc[nval:nval+ntest]"
      ],
      "metadata": {
        "id": "F6p6FnoCm_OV"
      },
      "execution_count": 15,
      "outputs": []
    },
    {
      "cell_type": "code",
      "source": [
        "hdf_ytr=hdf_train[\"median_house_value\"]\n",
        "\n",
        "hdf_yval=hdf_val[\"median_house_value\"]\n",
        "\n",
        "hdf_ytest=hdf_test[\"median_house_value\"]\n",
        "\n",
        "\n"
      ],
      "metadata": {
        "id": "zMzyVlv3q_XL"
      },
      "execution_count": 16,
      "outputs": []
    },
    {
      "cell_type": "code",
      "source": [
        "hdf_train.drop(columns=\"median_house_value\",inplace=True)\n",
        "hdf_val.drop(columns=\"median_house_value\",inplace=True)\n",
        "hdf_test.drop(columns=\"median_house_value\",inplace=True)"
      ],
      "metadata": {
        "colab": {
          "base_uri": "https://localhost:8080/"
        },
        "id": "cAMey_w_luZe",
        "outputId": "1ffbc708-6ba6-4ea7-f1cf-350970415ea8"
      },
      "execution_count": 17,
      "outputs": [
        {
          "output_type": "stream",
          "name": "stderr",
          "text": [
            "/usr/local/lib/python3.7/dist-packages/pandas/core/frame.py:4913: SettingWithCopyWarning: \n",
            "A value is trying to be set on a copy of a slice from a DataFrame\n",
            "\n",
            "See the caveats in the documentation: https://pandas.pydata.org/pandas-docs/stable/user_guide/indexing.html#returning-a-view-versus-a-copy\n",
            "  errors=errors,\n"
          ]
        }
      ]
    },
    {
      "cell_type": "code",
      "source": [
        "hdf_ytrlg=np.log1p(hdf_ytr)\n",
        "hdf_yvallg=np.log1p(hdf_yval)\n",
        "hdf_ytestlg=np.log1p(hdf_ytest)"
      ],
      "metadata": {
        "id": "xeIVy0tJrO_w"
      },
      "execution_count": 18,
      "outputs": []
    },
    {
      "cell_type": "markdown",
      "source": [
        "Q3  fill the missing with 0 or mean \n",
        "for  null  coloumn"
      ],
      "metadata": {
        "id": "dfDL9Mgqm822"
      }
    },
    {
      "cell_type": "code",
      "source": [
        "hdf_train=hdf_train.reset_index(drop=True)\n",
        "hdf_val=hdf_val.reset_index(drop=True)\n",
        "hdf_test=hdf_test.reset_index(drop=True)"
      ],
      "metadata": {
        "id": "ovz25EesiZ26"
      },
      "execution_count": 19,
      "outputs": []
    },
    {
      "cell_type": "code",
      "source": [
        "hdf_train_filledmean=hdf_train.fillna(hdf_train.total_bedrooms.mean())\n",
        "hdf_val_filledmean=hdf_val.fillna(hdf_train.total_bedrooms.mean())\n",
        "hdf_test_filledmean=hdf_test.fillna(hdf_train.total_bedrooms.mean())\n"
      ],
      "metadata": {
        "id": "igZNvfIOonpS"
      },
      "execution_count": 20,
      "outputs": []
    },
    {
      "cell_type": "code",
      "source": [
        "hdf_train_filledz=hdf_train.fillna(0)\n",
        "hdf_val_filledz=hdf_val.fillna(0)\n",
        "hdf_test_filledz=hdf_test.fillna(0)\n"
      ],
      "metadata": {
        "id": "T1qqXBZdo2nD"
      },
      "execution_count": 21,
      "outputs": []
    },
    {
      "cell_type": "code",
      "source": [
        "check=list(hdf_train.columns)\n",
        "check"
      ],
      "metadata": {
        "colab": {
          "base_uri": "https://localhost:8080/"
        },
        "id": "amBfPkLhBugM",
        "outputId": "88e5a5db-7c25-4d1a-ebf4-ff1ab07f87a3"
      },
      "execution_count": 30,
      "outputs": [
        {
          "output_type": "execute_result",
          "data": {
            "text/plain": [
              "['latitude',\n",
              " 'longitude',\n",
              " 'housing_median_age',\n",
              " 'total_rooms',\n",
              " 'total_bedrooms',\n",
              " 'population',\n",
              " 'households',\n",
              " 'median_income']"
            ]
          },
          "metadata": {},
          "execution_count": 30
        }
      ]
    },
    {
      "cell_type": "code",
      "source": [
        "def prepare_X(df, fillna_value):\n",
        "    df_num = df[check]\n",
        "    df_num = df_num.fillna(fillna_value)\n",
        "    X = df_num.values\n",
        "    return X"
      ],
      "metadata": {
        "id": "hTvpPEBJBq0I"
      },
      "execution_count": 31,
      "outputs": []
    },
    {
      "cell_type": "code",
      "source": [
        "def linearreg(X,y):\n",
        "    ones = np.ones(X.shape[0])\n",
        "    X = np.column_stack([ones, X])\n",
        "\n",
        "    XTX = X.T.dot(X)\n",
        "    # reg = r * np.eye(XTX.shape[0])\n",
        "    # XTX = XTX + reg\n",
        "\n",
        "    XTX_inv = np.linalg.inv(XTX)\n",
        "    w = XTX_inv.dot(X.T).dot(y)\n",
        "    \n",
        "    return w[0], w[1:]\n",
        "def rmse(y, y_pred):\n",
        "    error = y_pred - y\n",
        "    mse = (error ** 2).mean()\n",
        "    return np.sqrt(mse)"
      ],
      "metadata": {
        "id": "Myv5Z4hGqX0j"
      },
      "execution_count": 32,
      "outputs": []
    },
    {
      "cell_type": "code",
      "source": [
        "mean=hdf_train.total_bedrooms.mean()"
      ],
      "metadata": {
        "id": "2JQyZGMVCgu0"
      },
      "execution_count": 26,
      "outputs": []
    },
    {
      "cell_type": "code",
      "source": [
        "hdf_train_values=prepare_X(hdf_train,fillna_value=mean)\n",
        "wmean0,wmean=linearreg(hdf_train_values,hdf_ytrlg)\n"
      ],
      "metadata": {
        "id": "iw16R2YiCzHa"
      },
      "execution_count": 42,
      "outputs": []
    },
    {
      "cell_type": "code",
      "source": [
        "hdf_val_values_mean=prepare_X(hdf_val,fillna_value=mean)\n",
        "y_val_meanpred=wmean0+hdf_val_values_mean.dot(wmean)\n"
      ],
      "metadata": {
        "id": "N6dSl9Y8DmL8"
      },
      "execution_count": 48,
      "outputs": []
    },
    {
      "cell_type": "code",
      "source": [
        "np.round(rmse(hdf_yvallg,y_val_meanpred),2)"
      ],
      "metadata": {
        "colab": {
          "base_uri": "https://localhost:8080/"
        },
        "id": "O-MXAaTbEFp_",
        "outputId": "b86836bc-0f05-42fc-fd9e-cf066c683af7"
      },
      "execution_count": 49,
      "outputs": [
        {
          "output_type": "execute_result",
          "data": {
            "text/plain": [
              "0.33"
            ]
          },
          "metadata": {},
          "execution_count": 49
        }
      ]
    },
    {
      "cell_type": "code",
      "source": [
        "hdf_train_values=prepare_X(hdf_train,fillna_value=0)\n",
        "wnull0,wnull=linearreg(hdf_train_values,hdf_ytrlg)\n",
        "hdf_val_values_null=prepare_X(hdf_val,fillna_value=0)\n",
        "y_val_nullpred=wnull0+hdf_val_values_null.dot(wnull)\n"
      ],
      "metadata": {
        "id": "Yldm5opIF_qL"
      },
      "execution_count": 50,
      "outputs": []
    },
    {
      "cell_type": "code",
      "source": [
        "np.round(rmse(hdf_yvallg,y_val_nullpred),2)"
      ],
      "metadata": {
        "colab": {
          "base_uri": "https://localhost:8080/"
        },
        "id": "NjKz3xIQGTxQ",
        "outputId": "69176ee0-cd8d-4039-eb14-78a8c967a33b"
      },
      "execution_count": 51,
      "outputs": [
        {
          "output_type": "execute_result",
          "data": {
            "text/plain": [
              "0.33"
            ]
          },
          "metadata": {},
          "execution_count": 51
        }
      ]
    },
    {
      "cell_type": "markdown",
      "source": [
        "Same values observed both equally good "
      ],
      "metadata": {
        "id": "7ZNuVPf0GuIQ"
      }
    },
    {
      "cell_type": "code",
      "source": [
        "#4th question"
      ],
      "metadata": {
        "id": "JIyY1zrdIb6y"
      },
      "execution_count": 41,
      "outputs": []
    },
    {
      "cell_type": "code",
      "source": [
        "# Regularization\n",
        "def linearreg(X,y,r=0.01):\n",
        "    ones = np.ones(X.shape[0])\n",
        "    X = np.column_stack([ones, X])\n",
        "    XTX = X.T.dot(X)\n",
        "    reg = r * np.eye(XTX.shape[0])\n",
        "    XTX = XTX + reg\n",
        "    XTX_inv = np.linalg.inv(XTX)\n",
        "    w = XTX_inv.dot(X.T).dot(y)\n",
        "    return w[0], w[1:]\n",
        "\n",
        "for r in [0, 0.000001, 0.0001, 0.001, 0.01, 0.1, 1, 5, 10]:\n",
        "    w_0, w = linearreg(hdf_train_values, hdf_ytrlg, r=r)\n",
        "    y_null_reg_val = w_0 + hdf_val_values_null.dot(w)\n",
        "    rmse_val = np.round(rmse(hdf_yvallg,y_null_reg_val ),2)\n",
        "    print(r, w_0, rmse_val)\n"
      ],
      "metadata": {
        "colab": {
          "base_uri": "https://localhost:8080/"
        },
        "id": "N5zGM6XsGtYB",
        "outputId": "b8ac6000-ca5c-4032-dfae-3676ed7412b7"
      },
      "execution_count": 52,
      "outputs": [
        {
          "output_type": "stream",
          "name": "stdout",
          "text": [
            "0 -11.686975241808469 0.33\n",
            "1e-06 -11.686959175857494 0.33\n",
            "0.0001 -11.685368865259061 0.33\n",
            "0.001 -11.670931318158033 0.33\n",
            "0.01 -11.528493585707224 0.33\n",
            "0.1 -10.274500281964695 0.33\n",
            "1 -4.920480897816711 0.33\n",
            "5 -1.4820957455971928 0.34\n",
            "10 -0.7899311832023754 0.34\n"
          ]
        }
      ]
    },
    {
      "cell_type": "markdown",
      "source": [
        "1st is fine r=0"
      ],
      "metadata": {
        "id": "JlXZCcbKJtCk"
      }
    }
  ]
}